{
 "cells": [
  {
   "cell_type": "markdown",
   "metadata": {},
   "source": [
    "# Importing necessery libraries"
   ]
  },
  {
   "cell_type": "code",
   "execution_count": 7,
   "metadata": {},
   "outputs": [],
   "source": [
    "import pickle\n",
    "import pandas as pd\n",
    "import utils"
   ]
  },
  {
   "cell_type": "markdown",
   "metadata": {},
   "source": [
    "# Data info"
   ]
  },
  {
   "cell_type": "code",
   "execution_count": 8,
   "metadata": {},
   "outputs": [
    {
     "data": {
      "text/html": [
       "<div>\n",
       "<style scoped>\n",
       "    .dataframe tbody tr th:only-of-type {\n",
       "        vertical-align: middle;\n",
       "    }\n",
       "\n",
       "    .dataframe tbody tr th {\n",
       "        vertical-align: top;\n",
       "    }\n",
       "\n",
       "    .dataframe thead th {\n",
       "        text-align: right;\n",
       "    }\n",
       "</style>\n",
       "<table border=\"1\" class=\"dataframe\">\n",
       "  <thead>\n",
       "    <tr style=\"text-align: right;\">\n",
       "      <th></th>\n",
       "      <th>ID</th>\n",
       "      <th>Time</th>\n",
       "      <th>Voltage A</th>\n",
       "      <th>Voltage B</th>\n",
       "      <th>Voltage C</th>\n",
       "      <th>current A</th>\n",
       "      <th>current B</th>\n",
       "      <th>current C</th>\n",
       "    </tr>\n",
       "  </thead>\n",
       "  <tbody>\n",
       "    <tr>\n",
       "      <th>0</th>\n",
       "      <td>10.0</td>\n",
       "      <td>1.0</td>\n",
       "      <td>2.673035</td>\n",
       "      <td>2.893372</td>\n",
       "      <td>2.940063</td>\n",
       "      <td>2.469482</td>\n",
       "      <td>2.557678</td>\n",
       "      <td>2.084656</td>\n",
       "    </tr>\n",
       "    <tr>\n",
       "      <th>1</th>\n",
       "      <td>10.0</td>\n",
       "      <td>2.0</td>\n",
       "      <td>2.673035</td>\n",
       "      <td>2.893372</td>\n",
       "      <td>2.940063</td>\n",
       "      <td>2.469482</td>\n",
       "      <td>2.557678</td>\n",
       "      <td>2.084656</td>\n",
       "    </tr>\n",
       "    <tr>\n",
       "      <th>2</th>\n",
       "      <td>10.0</td>\n",
       "      <td>3.0</td>\n",
       "      <td>2.353516</td>\n",
       "      <td>2.375793</td>\n",
       "      <td>2.394714</td>\n",
       "      <td>2.374573</td>\n",
       "      <td>2.446289</td>\n",
       "      <td>2.053223</td>\n",
       "    </tr>\n",
       "    <tr>\n",
       "      <th>3</th>\n",
       "      <td>10.0</td>\n",
       "      <td>4.0</td>\n",
       "      <td>2.167053</td>\n",
       "      <td>1.892395</td>\n",
       "      <td>2.399597</td>\n",
       "      <td>3.119202</td>\n",
       "      <td>2.307434</td>\n",
       "      <td>3.140869</td>\n",
       "    </tr>\n",
       "    <tr>\n",
       "      <th>4</th>\n",
       "      <td>10.0</td>\n",
       "      <td>5.0</td>\n",
       "      <td>2.450562</td>\n",
       "      <td>2.419739</td>\n",
       "      <td>2.499084</td>\n",
       "      <td>3.129578</td>\n",
       "      <td>3.273621</td>\n",
       "      <td>2.700500</td>\n",
       "    </tr>\n",
       "  </tbody>\n",
       "</table>\n",
       "</div>"
      ],
      "text/plain": [
       "     ID  Time  Voltage A  Voltage B  Voltage C  current A  current B  \\\n",
       "0  10.0   1.0   2.673035   2.893372   2.940063   2.469482   2.557678   \n",
       "1  10.0   2.0   2.673035   2.893372   2.940063   2.469482   2.557678   \n",
       "2  10.0   3.0   2.353516   2.375793   2.394714   2.374573   2.446289   \n",
       "3  10.0   4.0   2.167053   1.892395   2.399597   3.119202   2.307434   \n",
       "4  10.0   5.0   2.450562   2.419739   2.499084   3.129578   3.273621   \n",
       "\n",
       "   current C  \n",
       "0   2.084656  \n",
       "1   2.084656  \n",
       "2   2.053223  \n",
       "3   3.140869  \n",
       "4   2.700500  "
      ]
     },
     "execution_count": 8,
     "metadata": {},
     "output_type": "execute_result"
    }
   ],
   "source": [
    "data = pickle.load(open('pickle/18-Jan-2022-09.11.05.pkl', \"rb\"))\n",
    "\n",
    "df  = pd.DataFrame(data, columns=[\"ID\",\n",
    "                                \"Time\",\n",
    "                                \"Voltage A\",\n",
    "                                \"Voltage B\",\n",
    "                                \"Voltage C\",\n",
    "                                \"current A\",\n",
    "                                \"current B\",\n",
    "                                \"current C\"])\n",
    "\n",
    "df.head()\n"
   ]
  },
  {
   "cell_type": "code",
   "execution_count": 10,
   "metadata": {},
   "outputs": [],
   "source": [
    "tool = utils.db_reduction('pickle/',n_iterations=10,maintained_percent=0.2)"
   ]
  },
  {
   "cell_type": "code",
   "execution_count": 11,
   "metadata": {},
   "outputs": [
    {
     "name": "stdout",
     "output_type": "stream",
     "text": [
      "Reducing number of time series...\n",
      "[--------------------------------------------------] 100.00% - 160 of 160"
     ]
    }
   ],
   "source": [
    "tool.transform()"
   ]
  }
 ],
 "metadata": {
  "interpreter": {
   "hash": "1bd8572c472e4381368e4a3d2fe8a7710e92cd93203344516ab3a3cb8400177a"
  },
  "kernelspec": {
   "display_name": "Python 3.7.11 ('CNPq-3.7')",
   "language": "python",
   "name": "python3"
  },
  "language_info": {
   "codemirror_mode": {
    "name": "ipython",
    "version": 3
   },
   "file_extension": ".py",
   "mimetype": "text/x-python",
   "name": "python",
   "nbconvert_exporter": "python",
   "pygments_lexer": "ipython3",
   "version": "3.7.11"
  },
  "orig_nbformat": 4
 },
 "nbformat": 4,
 "nbformat_minor": 2
}
